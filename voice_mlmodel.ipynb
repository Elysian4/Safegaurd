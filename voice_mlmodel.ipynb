{
 "cells": [
  {
   "cell_type": "code",
   "execution_count": 9,
   "id": "f1788045",
   "metadata": {},
   "outputs": [
    {
     "name": "stdout",
     "output_type": "stream",
     "text": [
      "Found existing installation: torch 2.6.0\n",
      "Uninstalling torch-2.6.0:\n",
      "  Successfully uninstalled torch-2.6.0\n",
      "Found existing installation: torchvision 0.19.1\n",
      "Uninstalling torchvision-0.19.1:\n",
      "  Successfully uninstalled torchvision-0.19.1\n",
      "Found existing installation: torchaudio 2.6.0\n",
      "Uninstalling torchaudio-2.6.0:\n",
      "  Successfully uninstalled torchaudio-2.6.0\n"
     ]
    },
    {
     "name": "stderr",
     "output_type": "stream",
     "text": [
      "WARNING: Failed to remove contents in a temporary directory 'C:\\Users\\kuksh\\anaconda3\\Lib\\site-packages\\~orch'.\n",
      "You can safely remove it manually.\n"
     ]
    }
   ],
   "source": [
    "\n",
    "\n"
   ]
  },
  {
   "cell_type": "code",
   "execution_count": 10,
   "id": "bed1f3ed",
   "metadata": {},
   "outputs": [
    {
     "name": "stdout",
     "output_type": "stream",
     "text": [
      "Looking in indexes: https://download.pytorch.org/whl/cpu\n",
      "Collecting torch\n",
      "  Downloading https://download.pytorch.org/whl/cpu/torch-2.6.0%2Bcpu-cp39-cp39-win_amd64.whl.metadata (28 kB)\n",
      "Collecting torchvision\n",
      "  Downloading https://download.pytorch.org/whl/cpu/torchvision-0.21.0%2Bcpu-cp39-cp39-win_amd64.whl.metadata (6.3 kB)\n",
      "Collecting torchaudio\n",
      "  Downloading https://download.pytorch.org/whl/cpu/torchaudio-2.6.0%2Bcpu-cp39-cp39-win_amd64.whl.metadata (6.7 kB)\n",
      "Requirement already satisfied: filelock in c:\\users\\kuksh\\anaconda3\\lib\\site-packages (from torch) (3.6.0)\n",
      "Requirement already satisfied: typing-extensions>=4.10.0 in c:\\users\\kuksh\\anaconda3\\lib\\site-packages (from torch) (4.12.2)\n",
      "Requirement already satisfied: networkx in c:\\users\\kuksh\\anaconda3\\lib\\site-packages (from torch) (2.7.1)\n",
      "Requirement already satisfied: jinja2 in c:\\users\\kuksh\\anaconda3\\lib\\site-packages (from torch) (2.11.3)\n",
      "Requirement already satisfied: fsspec in c:\\users\\kuksh\\anaconda3\\lib\\site-packages (from torch) (2024.9.0)\n",
      "Requirement already satisfied: sympy==1.13.1 in c:\\users\\kuksh\\anaconda3\\lib\\site-packages (from torch) (1.13.1)\n",
      "Requirement already satisfied: mpmath<1.4,>=1.1.0 in c:\\users\\kuksh\\anaconda3\\lib\\site-packages (from sympy==1.13.1->torch) (1.2.1)\n",
      "Requirement already satisfied: numpy in c:\\users\\kuksh\\anaconda3\\lib\\site-packages (from torchvision) (1.21.6)\n",
      "Requirement already satisfied: pillow!=8.3.*,>=5.3.0 in c:\\users\\kuksh\\anaconda3\\lib\\site-packages (from torchvision) (10.4.0)\n",
      "Requirement already satisfied: MarkupSafe>=0.23 in c:\\users\\kuksh\\anaconda3\\lib\\site-packages (from jinja2->torch) (2.0.1)\n",
      "Downloading https://download.pytorch.org/whl/cpu/torch-2.6.0%2Bcpu-cp39-cp39-win_amd64.whl (206.4 MB)\n",
      "   ---------------------------------------- 206.4/206.4 MB 1.1 MB/s eta 0:00:00\n",
      "Downloading https://download.pytorch.org/whl/cpu/torchvision-0.21.0%2Bcpu-cp39-cp39-win_amd64.whl (1.6 MB)\n",
      "   ---------------------------------------- 1.6/1.6 MB 1.2 MB/s eta 0:00:00\n",
      "Downloading https://download.pytorch.org/whl/cpu/torchaudio-2.6.0%2Bcpu-cp39-cp39-win_amd64.whl (2.4 MB)\n",
      "   ---------------------------------------- 2.4/2.4 MB 1.2 MB/s eta 0:00:00\n",
      "Installing collected packages: torch, torchvision, torchaudio\n",
      "Successfully installed torch-2.6.0+cpu torchaudio-2.6.0+cpu torchvision-0.21.0+cpu\n",
      "Note: you may need to restart the kernel to use updated packages.\n"
     ]
    },
    {
     "name": "stderr",
     "output_type": "stream",
     "text": [
      "WARNING: Ignoring invalid distribution -pencv-python (c:\\users\\kuksh\\anaconda3\\lib\\site-packages)\n",
      "WARNING: Ignoring invalid distribution -pencv-python (c:\\users\\kuksh\\anaconda3\\lib\\site-packages)\n",
      "WARNING: Ignoring invalid distribution -pencv-python (c:\\users\\kuksh\\anaconda3\\lib\\site-packages)\n",
      "ERROR: pip's dependency resolver does not currently take into account all the packages that are installed. This behaviour is the source of the following dependency conflicts.\n",
      "ultralytics 8.3.5 requires numpy>=1.23.0, but you have numpy 1.21.6 which is incompatible.\n"
     ]
    }
   ],
   "source": [
    "pip install torch torchvision torchaudio --index-url https://download.pytorch.org/whl/cpu\n"
   ]
  },
  {
   "cell_type": "code",
   "execution_count": 8,
   "id": "b06308d7",
   "metadata": {},
   "outputs": [
    {
     "name": "stdout",
     "output_type": "stream",
     "text": [
      "Found existing installation: numpy 1.21.6\n",
      "Uninstalling numpy-1.21.6:\n",
      "  Successfully uninstalled numpy-1.21.6\n",
      "Note: you may need to restart the kernel to use updated packages.\n"
     ]
    }
   ],
   "source": [
    "pip uninstall numpy -y\n"
   ]
  },
  {
   "cell_type": "code",
   "execution_count": 2,
   "id": "c3bb73b1",
   "metadata": {},
   "outputs": [
    {
     "name": "stdout",
     "output_type": "stream",
     "text": [
      "Requirement already satisfied: numpy<2 in c:\\users\\kuksh\\anaconda3\\lib\\site-packages (1.21.6)Note: you may need to restart the kernel to use updated packages.\n",
      "\n"
     ]
    },
    {
     "name": "stderr",
     "output_type": "stream",
     "text": [
      "WARNING: Ignoring invalid distribution -pencv-python (c:\\users\\kuksh\\anaconda3\\lib\\site-packages)\n",
      "WARNING: Ignoring invalid distribution -pencv-python (c:\\users\\kuksh\\anaconda3\\lib\\site-packages)\n",
      "WARNING: Ignoring invalid distribution -pencv-python (c:\\users\\kuksh\\anaconda3\\lib\\site-packages)\n"
     ]
    }
   ],
   "source": [
    "pip install \"numpy<2\"\n"
   ]
  },
  {
   "cell_type": "code",
   "execution_count": 3,
   "id": "37989e5c",
   "metadata": {},
   "outputs": [
    {
     "name": "stdout",
     "output_type": "stream",
     "text": [
      "1.21.6\n"
     ]
    }
   ],
   "source": [
    "import numpy as np\n",
    "print(np.__version__)\n"
   ]
  },
  {
   "cell_type": "code",
   "execution_count": 13,
   "id": "8baa9227",
   "metadata": {},
   "outputs": [
    {
     "name": "stdout",
     "output_type": "stream",
     "text": [
      "Requirement already satisfied: transformers in c:\\users\\kuksh\\anaconda3\\lib\\site-packages (4.46.1)\n",
      "Requirement already satisfied: datasets in c:\\users\\kuksh\\anaconda3\\lib\\site-packages (3.2.0)\n",
      "Requirement already satisfied: filelock in c:\\users\\kuksh\\anaconda3\\lib\\site-packages (from transformers) (3.6.0)\n",
      "Requirement already satisfied: huggingface-hub<1.0,>=0.23.2 in c:\\users\\kuksh\\anaconda3\\lib\\site-packages (from transformers) (0.26.2)\n",
      "Note: you may need to restart the kernel to use updated packages.\n",
      "Requirement already satisfied: numpy>=1.17 in c:\\users\\kuksh\\anaconda3\\lib\\site-packages (from transformers) (1.21.6)"
     ]
    },
    {
     "name": "stderr",
     "output_type": "stream",
     "text": [
      "WARNING: Ignoring invalid distribution -pencv-python (c:\\users\\kuksh\\anaconda3\\lib\\site-packages)\n",
      "WARNING: Ignoring invalid distribution -pencv-python (c:\\users\\kuksh\\anaconda3\\lib\\site-packages)\n",
      "WARNING: Ignoring invalid distribution -pencv-python (c:\\users\\kuksh\\anaconda3\\lib\\site-packages)\n"
     ]
    },
    {
     "name": "stdout",
     "output_type": "stream",
     "text": [
      "\n",
      "Requirement already satisfied: packaging>=20.0 in c:\\users\\kuksh\\anaconda3\\lib\\site-packages (from transformers) (24.1)\n",
      "Requirement already satisfied: pyyaml>=5.1 in c:\\users\\kuksh\\anaconda3\\lib\\site-packages (from transformers) (6.0)\n",
      "Requirement already satisfied: regex!=2019.12.17 in c:\\users\\kuksh\\anaconda3\\lib\\site-packages (from transformers) (2022.3.15)\n",
      "Requirement already satisfied: requests in c:\\users\\kuksh\\anaconda3\\lib\\site-packages (from transformers) (2.32.3)\n",
      "Requirement already satisfied: safetensors>=0.4.1 in c:\\users\\kuksh\\anaconda3\\lib\\site-packages (from transformers) (0.4.5)\n",
      "Requirement already satisfied: tokenizers<0.21,>=0.20 in c:\\users\\kuksh\\anaconda3\\lib\\site-packages (from transformers) (0.20.1)\n",
      "Requirement already satisfied: tqdm>=4.27 in c:\\users\\kuksh\\anaconda3\\lib\\site-packages (from transformers) (4.66.5)\n",
      "Requirement already satisfied: pyarrow>=15.0.0 in c:\\users\\kuksh\\anaconda3\\lib\\site-packages (from datasets) (18.1.0)\n",
      "Requirement already satisfied: dill<0.3.9,>=0.3.0 in c:\\users\\kuksh\\anaconda3\\lib\\site-packages (from datasets) (0.3.8)\n",
      "Requirement already satisfied: pandas in c:\\users\\kuksh\\anaconda3\\lib\\site-packages (from datasets) (1.4.2)\n",
      "Requirement already satisfied: xxhash in c:\\users\\kuksh\\anaconda3\\lib\\site-packages (from datasets) (3.5.0)\n",
      "Requirement already satisfied: multiprocess<0.70.17 in c:\\users\\kuksh\\anaconda3\\lib\\site-packages (from datasets) (0.70.16)\n",
      "Requirement already satisfied: fsspec<=2024.9.0,>=2023.1.0 in c:\\users\\kuksh\\anaconda3\\lib\\site-packages (from fsspec[http]<=2024.9.0,>=2023.1.0->datasets) (2024.9.0)\n",
      "Requirement already satisfied: aiohttp in c:\\users\\kuksh\\anaconda3\\lib\\site-packages (from datasets) (3.10.10)\n",
      "Requirement already satisfied: aiohappyeyeballs>=2.3.0 in c:\\users\\kuksh\\anaconda3\\lib\\site-packages (from aiohttp->datasets) (2.4.3)\n",
      "Requirement already satisfied: aiosignal>=1.1.2 in c:\\users\\kuksh\\anaconda3\\lib\\site-packages (from aiohttp->datasets) (1.2.0)\n",
      "Requirement already satisfied: attrs>=17.3.0 in c:\\users\\kuksh\\anaconda3\\lib\\site-packages (from aiohttp->datasets) (21.4.0)\n",
      "Requirement already satisfied: frozenlist>=1.1.1 in c:\\users\\kuksh\\anaconda3\\lib\\site-packages (from aiohttp->datasets) (1.2.0)\n",
      "Requirement already satisfied: multidict<7.0,>=4.5 in c:\\users\\kuksh\\anaconda3\\lib\\site-packages (from aiohttp->datasets) (5.1.0)\n",
      "Requirement already satisfied: yarl<2.0,>=1.12.0 in c:\\users\\kuksh\\anaconda3\\lib\\site-packages (from aiohttp->datasets) (1.17.1)\n",
      "Requirement already satisfied: async-timeout<5.0,>=4.0 in c:\\users\\kuksh\\anaconda3\\lib\\site-packages (from aiohttp->datasets) (4.0.1)\n",
      "Requirement already satisfied: typing-extensions>=3.7.4.3 in c:\\users\\kuksh\\anaconda3\\lib\\site-packages (from huggingface-hub<1.0,>=0.23.2->transformers) (4.12.2)\n",
      "Requirement already satisfied: charset-normalizer<4,>=2 in c:\\users\\kuksh\\anaconda3\\lib\\site-packages (from requests->transformers) (2.0.4)\n",
      "Requirement already satisfied: idna<4,>=2.5 in c:\\users\\kuksh\\anaconda3\\lib\\site-packages (from requests->transformers) (3.3)\n",
      "Requirement already satisfied: urllib3<3,>=1.21.1 in c:\\users\\kuksh\\anaconda3\\lib\\site-packages (from requests->transformers) (1.26.9)\n",
      "Requirement already satisfied: certifi>=2017.4.17 in c:\\users\\kuksh\\anaconda3\\lib\\site-packages (from requests->transformers) (2021.10.8)\n",
      "Requirement already satisfied: colorama in c:\\users\\kuksh\\anaconda3\\lib\\site-packages (from tqdm>=4.27->transformers) (0.4.4)\n",
      "Requirement already satisfied: python-dateutil>=2.8.1 in c:\\users\\kuksh\\anaconda3\\lib\\site-packages (from pandas->datasets) (2.8.2)\n",
      "Requirement already satisfied: pytz>=2020.1 in c:\\users\\kuksh\\anaconda3\\lib\\site-packages (from pandas->datasets) (2021.3)\n",
      "Requirement already satisfied: six>=1.5 in c:\\users\\kuksh\\anaconda3\\lib\\site-packages (from python-dateutil>=2.8.1->pandas->datasets) (1.16.0)\n",
      "Requirement already satisfied: propcache>=0.2.0 in c:\\users\\kuksh\\anaconda3\\lib\\site-packages (from yarl<2.0,>=1.12.0->aiohttp->datasets) (0.2.0)\n"
     ]
    }
   ],
   "source": [
    "pip install transformers datasets\n"
   ]
  },
  {
   "cell_type": "code",
   "execution_count": 14,
   "id": "314a8a89",
   "metadata": {},
   "outputs": [
    {
     "name": "stdout",
     "output_type": "stream",
     "text": [
      "Requirement already satisfied: sounddevice in c:\\users\\kuksh\\anaconda3\\lib\\site-packages (0.5.1)\n",
      "Requirement already satisfied: wavio in c:\\users\\kuksh\\anaconda3\\lib\\site-packages (0.0.9)\n",
      "Requirement already satisfied: librosa in c:\\users\\kuksh\\anaconda3\\lib\\site-packages (0.10.2.post1)\n",
      "Requirement already satisfied: CFFI>=1.0 in c:\\users\\kuksh\\anaconda3\\lib\\site-packages (from sounddevice) (1.15.0)\n",
      "Requirement already satisfied: numpy>=1.19.0 in c:\\users\\kuksh\\anaconda3\\lib\\site-packages (from wavio) (1.21.6)\n",
      "Requirement already satisfied: audioread>=2.1.9 in c:\\users\\kuksh\\anaconda3\\lib\\site-packages (from librosa) (3.0.1)\n",
      "Requirement already satisfied: scipy>=1.2.0 in c:\\users\\kuksh\\anaconda3\\lib\\site-packages (from librosa) (1.11.4)\n",
      "Requirement already satisfied: scikit-learn>=0.20.0 in c:\\users\\kuksh\\anaconda3\\lib\\site-packages (from librosa) (1.0.2)\n",
      "Requirement already satisfied: joblib>=0.14 in c:\\users\\kuksh\\anaconda3\\lib\\site-packages (from librosa) (1.1.0)\n",
      "Requirement already satisfied: decorator>=4.3.0 in c:\\users\\kuksh\\anaconda3\\lib\\site-packages (from librosa) (5.1.1)\n",
      "Requirement already satisfied: numba>=0.51.0 in c:\\users\\kuksh\\anaconda3\\lib\\site-packages (from librosa) (0.55.1)\n",
      "Requirement already satisfied: soundfile>=0.12.1 in c:\\users\\kuksh\\anaconda3\\lib\\site-packages (from librosa) (0.13.1)\n",
      "Requirement already satisfied: pooch>=1.1 in c:\\users\\kuksh\\anaconda3\\lib\\site-packages (from librosa) (1.8.2)\n",
      "Requirement already satisfied: soxr>=0.3.2 in c:\\users\\kuksh\\anaconda3\\lib\\site-packages (from librosa) (0.5.0.post1)\n",
      "Requirement already satisfied: typing-extensions>=4.1.1 in c:\\users\\kuksh\\anaconda3\\lib\\site-packages (from librosa) (4.12.2)\n",
      "Requirement already satisfied: lazy-loader>=0.1 in c:\\users\\kuksh\\anaconda3\\lib\\site-packages (from librosa) (0.4)\n",
      "Requirement already satisfied: msgpack>=1.0 in c:\\users\\kuksh\\anaconda3\\lib\\site-packages (from librosa) (1.0.2)\n",
      "Requirement already satisfied: pycparser in c:\\users\\kuksh\\anaconda3\\lib\\site-packages (from CFFI>=1.0->sounddevice) (2.21)\n",
      "Requirement already satisfied: packaging in c:\\users\\kuksh\\anaconda3\\lib\\site-packages (from lazy-loader>=0.1->librosa) (24.1)\n",
      "Requirement already satisfied: llvmlite<0.39,>=0.38.0rc1 in c:\\users\\kuksh\\anaconda3\\lib\\site-packages (from numba>=0.51.0->librosa) (0.38.0)\n",
      "Requirement already satisfied: setuptools in c:\\users\\kuksh\\anaconda3\\lib\\site-packages (from numba>=0.51.0->librosa) (75.8.2)\n",
      "Requirement already satisfied: platformdirs>=2.5.0 in c:\\users\\kuksh\\anaconda3\\lib\\site-packages (from pooch>=1.1->librosa) (4.3.6)\n",
      "Requirement already satisfied: requests>=2.19.0 in c:\\users\\kuksh\\anaconda3\\lib\\site-packages (from pooch>=1.1->librosa) (2.32.3)\n",
      "Requirement already satisfied: threadpoolctl>=2.0.0 in c:\\users\\kuksh\\anaconda3\\lib\\site-packages (from scikit-learn>=0.20.0->librosa) (2.2.0)\n",
      "Requirement already satisfied: charset-normalizer<4,>=2 in c:\\users\\kuksh\\anaconda3\\lib\\site-packages (from requests>=2.19.0->pooch>=1.1->librosa) (2.0.4)\n",
      "Requirement already satisfied: idna<4,>=2.5 in c:\\users\\kuksh\\anaconda3\\lib\\site-packages (from requests>=2.19.0->pooch>=1.1->librosa) (3.3)\n",
      "Requirement already satisfied: urllib3<3,>=1.21.1 in c:\\users\\kuksh\\anaconda3\\lib\\site-packages (from requests>=2.19.0->pooch>=1.1->librosa) (1.26.9)\n",
      "Requirement already satisfied: certifi>=2017.4.17 in c:\\users\\kuksh\\anaconda3\\lib\\site-packages (from requests>=2.19.0->pooch>=1.1->librosa) (2021.10.8)\n",
      "Note: you may need to restart the kernel to use updated packages.\n"
     ]
    },
    {
     "name": "stderr",
     "output_type": "stream",
     "text": [
      "WARNING: Ignoring invalid distribution -pencv-python (c:\\users\\kuksh\\anaconda3\\lib\\site-packages)\n",
      "WARNING: Ignoring invalid distribution -pencv-python (c:\\users\\kuksh\\anaconda3\\lib\\site-packages)\n",
      "WARNING: Ignoring invalid distribution -pencv-python (c:\\users\\kuksh\\anaconda3\\lib\\site-packages)\n"
     ]
    }
   ],
   "source": [
    "pip install sounddevice wavio librosa\n"
   ]
  },
  {
   "cell_type": "code",
   "execution_count": 15,
   "id": "0967196d",
   "metadata": {},
   "outputs": [
    {
     "name": "stdout",
     "output_type": "stream",
     "text": [
      "Requirement already satisfied: numpy in c:\\users\\kuksh\\anaconda3\\lib\\site-packages (1.21.6)\n",
      "Requirement already satisfied: scikit-learn in c:\\users\\kuksh\\anaconda3\\lib\\site-packages (1.0.2)\n",
      "Requirement already satisfied: scipy>=1.1.0 in c:\\users\\kuksh\\anaconda3\\lib\\site-packages (from scikit-learn) (1.11.4)\n",
      "Requirement already satisfied: joblib>=0.11 in c:\\users\\kuksh\\anaconda3\\lib\\site-packages (from scikit-learn) (1.1.0)\n",
      "Note: you may need to restart the kernel to use updated packages.\n"
     ]
    },
    {
     "name": "stderr",
     "output_type": "stream",
     "text": [
      "WARNING: Ignoring invalid distribution -pencv-python (c:\\users\\kuksh\\anaconda3\\lib\\site-packages)\n",
      "WARNING: Ignoring invalid distribution -pencv-python (c:\\users\\kuksh\\anaconda3\\lib\\site-packages)\n",
      "WARNING: Ignoring invalid distribution -pencv-python (c:\\users\\kuksh\\anaconda3\\lib\\site-packages)\n"
     ]
    },
    {
     "name": "stdout",
     "output_type": "stream",
     "text": [
      "Requirement already satisfied: threadpoolctl>=2.0.0 in c:\\users\\kuksh\\anaconda3\\lib\\site-packages (from scikit-learn) (2.2.0)\n"
     ]
    }
   ],
   "source": [
    "pip install numpy scikit-learn\n"
   ]
  },
  {
   "cell_type": "code",
   "execution_count": 11,
   "id": "788064c3",
   "metadata": {},
   "outputs": [
    {
     "name": "stdout",
     "output_type": "stream",
     "text": [
      "🎤 Recording for 3 seconds... Speak now!\n",
      "✅ Recording saved as my_voice_sample.wav\n",
      "🎤 Recording for 3 seconds... Speak now!\n",
      "✅ Recording saved as test_voice.wav\n"
     ]
    }
   ],
   "source": [
    "import sounddevice as sd\n",
    "import wavio\n",
    "import numpy as np\n",
    "import librosa\n",
    "\n",
    "# Function to record audio\n",
    "def record_audio(filename, duration=3, samplerate=16000):\n",
    "    print(f\"🎤 Recording for {duration} seconds... Speak now!\")\n",
    "    audio = sd.rec(int(samplerate * duration), samplerate=samplerate, channels=1, dtype=np.int16)\n",
    "    sd.wait()\n",
    "    wavio.write(filename, audio, samplerate, sampwidth=2)\n",
    "    print(f\"✅ Recording saved as {filename}\")\n",
    "\n",
    "# Record your voice sample (for dataset)\n",
    "record_audio(\"my_voice_sample.wav\", duration=3)\n",
    "\n",
    "# Record a test sample (to predict)\n",
    "record_audio(\"test_voice.wav\", duration=3)\n"
   ]
  },
  {
   "cell_type": "code",
   "execution_count": 4,
   "id": "8d34d37e",
   "metadata": {},
   "outputs": [
    {
     "name": "stdout",
     "output_type": "stream",
     "text": [
      "Note: you may need to restart the kernel to use updated packages.\n"
     ]
    },
    {
     "name": "stderr",
     "output_type": "stream",
     "text": [
      "WARNING: Ignoring invalid distribution -pencv-python (c:\\users\\kuksh\\anaconda3\\lib\\site-packages)\n",
      "WARNING: Ignoring invalid distribution -pencv-python (c:\\users\\kuksh\\anaconda3\\lib\\site-packages)\n",
      "  WARNING: Failed to remove contents in a temporary directory 'C:\\Users\\kuksh\\anaconda3\\Lib\\site-packages\\~ptree'.\n",
      "  You can safely remove it manually.\n",
      "WARNING: Ignoring invalid distribution -pencv-python (c:\\users\\kuksh\\anaconda3\\lib\\site-packages)\n"
     ]
    }
   ],
   "source": [
    "pip install --upgrade optree>=0.13.0\n"
   ]
  },
  {
   "cell_type": "code",
   "execution_count": 9,
   "id": "6858ab74",
   "metadata": {},
   "outputs": [
    {
     "name": "stderr",
     "output_type": "stream",
     "text": [
      "WARNING: Ignoring invalid distribution -pencv-python (c:\\users\\kuksh\\anaconda3\\lib\\site-packages)\n",
      "WARNING: Skipping backports.tarfile as it is not installed.\n"
     ]
    },
    {
     "name": "stdout",
     "output_type": "stream",
     "text": [
      "Collecting backports.tarfile\n",
      "  Downloading backports.tarfile-1.2.0-py3-none-any.whl.metadata (2.0 kB)\n",
      "Downloading backports.tarfile-1.2.0-py3-none-any.whl (30 kB)\n",
      "Installing collected packages: backports.tarfile\n",
      "Successfully installed backports.tarfile-1.2.0\n"
     ]
    },
    {
     "name": "stderr",
     "output_type": "stream",
     "text": [
      "WARNING: Ignoring invalid distribution -pencv-python (c:\\users\\kuksh\\anaconda3\\lib\\site-packages)\n",
      "WARNING: Ignoring invalid distribution -pencv-python (c:\\users\\kuksh\\anaconda3\\lib\\site-packages)\n",
      "WARNING: Ignoring invalid distribution -pencv-python (c:\\users\\kuksh\\anaconda3\\lib\\site-packages)\n"
     ]
    }
   ],
   "source": [
    "!pip uninstall backports.tarfile\n",
    "!pip install backports.tarfile\n",
    "\n"
   ]
  },
  {
   "cell_type": "code",
   "execution_count": 13,
   "id": "3464d8a9",
   "metadata": {},
   "outputs": [
    {
     "name": "stdout",
     "output_type": "stream",
     "text": [
      "Requirement already satisfied: numba in c:\\users\\kuksh\\anaconda3\\lib\\site-packages (0.55.1)\n",
      "Requirement already satisfied: llvmlite<0.39,>=0.38.0rc1 in c:\\users\\kuksh\\anaconda3\\lib\\site-packages (from numba) (0.38.0)\n",
      "Collecting numpy<1.22,>=1.18 (from numba)\n",
      "  Using cached numpy-1.21.6-cp39-cp39-win_amd64.whl.metadata (2.2 kB)\n",
      "Requirement already satisfied: setuptools in c:\\users\\kuksh\\anaconda3\\lib\\site-packages (from numba) (75.8.2)\n",
      "Using cached numpy-1.21.6-cp39-cp39-win_amd64.whl (14.0 MB)\n",
      "Installing collected packages: numpy\n",
      "  Attempting uninstall: numpy\n",
      "    Found existing installation: numpy 1.26.4\n",
      "    Uninstalling numpy-1.26.4:\n",
      "      Successfully uninstalled numpy-1.26.4\n",
      "Successfully installed numpy-1.21.6\n"
     ]
    },
    {
     "name": "stderr",
     "output_type": "stream",
     "text": [
      "WARNING: Ignoring invalid distribution -pencv-python (c:\\users\\kuksh\\anaconda3\\lib\\site-packages)\n",
      "WARNING: Ignoring invalid distribution -pencv-python (c:\\users\\kuksh\\anaconda3\\lib\\site-packages)\n",
      "  WARNING: Failed to remove contents in a temporary directory 'C:\\Users\\kuksh\\anaconda3\\Lib\\site-packages\\~%mpy.libs'.\n",
      "  You can safely remove it manually.\n",
      "  WARNING: Failed to remove contents in a temporary directory 'C:\\Users\\kuksh\\anaconda3\\Lib\\site-packages\\~3mpy'.\n",
      "  You can safely remove it manually.\n",
      "WARNING: Ignoring invalid distribution -pencv-python (c:\\users\\kuksh\\anaconda3\\lib\\site-packages)\n",
      "ERROR: pip's dependency resolver does not currently take into account all the packages that are installed. This behaviour is the source of the following dependency conflicts.\n",
      "daal4py 2021.5.0 requires daal==2021.4.0, which is not installed.\n",
      "chromadb 0.5.23 requires numpy>=1.22.5, but you have numpy 1.21.6 which is incompatible.\n",
      "geopandas 1.0.1 requires numpy>=1.22, but you have numpy 1.21.6 which is incompatible.\n",
      "osmnx 2.0.1 requires numpy>=1.22, but you have numpy 1.21.6 which is incompatible.\n",
      "streamlit 1.41.1 requires numpy<3,>=1.23, but you have numpy 1.21.6 which is incompatible.\n",
      "tensorflow-intel 2.18.0 requires numpy<2.1.0,>=1.26.0, but you have numpy 1.21.6 which is incompatible.\n",
      "ultralytics 8.3.5 requires numpy>=1.23.0, but you have numpy 1.21.6 which is incompatible.\n"
     ]
    }
   ],
   "source": [
    "!pip install numba"
   ]
  },
  {
   "cell_type": "code",
   "execution_count": 4,
   "id": "f4f3a7ca",
   "metadata": {},
   "outputs": [
    {
     "name": "stdout",
     "output_type": "stream",
     "text": [
      "Requirement already satisfied: numpy in c:\\users\\kuksh\\anaconda3\\lib\\site-packages (1.21.6)\n",
      "Collecting numpy\n",
      "  Using cached numpy-2.0.2-cp39-cp39-win_amd64.whl.metadata (59 kB)\n",
      "Requirement already satisfied: scipy in c:\\users\\kuksh\\anaconda3\\lib\\site-packages (1.11.4)\n",
      "Collecting scipy\n",
      "  Downloading scipy-1.13.1-cp39-cp39-win_amd64.whl.metadata (60 kB)\n",
      "Requirement already satisfied: transformers in c:\\users\\kuksh\\anaconda3\\lib\\site-packages (4.46.1)\n",
      "Collecting transformers\n",
      "  Downloading transformers-4.49.0-py3-none-any.whl.metadata (44 kB)\n",
      "Requirement already satisfied: filelock in c:\\users\\kuksh\\anaconda3\\lib\\site-packages (from transformers) (3.6.0)\n",
      "Requirement already satisfied: huggingface-hub<1.0,>=0.26.0 in c:\\users\\kuksh\\anaconda3\\lib\\site-packages (from transformers) (0.26.2)\n",
      "Requirement already satisfied: packaging>=20.0 in c:\\users\\kuksh\\anaconda3\\lib\\site-packages (from transformers) (24.1)\n",
      "Requirement already satisfied: pyyaml>=5.1 in c:\\users\\kuksh\\anaconda3\\lib\\site-packages (from transformers) (6.0)\n",
      "Requirement already satisfied: regex!=2019.12.17 in c:\\users\\kuksh\\anaconda3\\lib\\site-packages (from transformers) (2022.3.15)\n",
      "Requirement already satisfied: requests in c:\\users\\kuksh\\anaconda3\\lib\\site-packages (from transformers) (2.32.3)\n",
      "Collecting tokenizers<0.22,>=0.21 (from transformers)\n",
      "  Downloading tokenizers-0.21.0-cp39-abi3-win_amd64.whl.metadata (6.9 kB)\n",
      "Requirement already satisfied: safetensors>=0.4.1 in c:\\users\\kuksh\\anaconda3\\lib\\site-packages (from transformers) (0.4.5)\n",
      "Requirement already satisfied: tqdm>=4.27 in c:\\users\\kuksh\\anaconda3\\lib\\site-packages (from transformers) (4.66.5)\n",
      "Requirement already satisfied: fsspec>=2023.5.0 in c:\\users\\kuksh\\anaconda3\\lib\\site-packages (from huggingface-hub<1.0,>=0.26.0->transformers) (2024.9.0)\n",
      "Requirement already satisfied: typing-extensions>=3.7.4.3 in c:\\users\\kuksh\\anaconda3\\lib\\site-packages (from huggingface-hub<1.0,>=0.26.0->transformers) (4.12.2)\n",
      "Requirement already satisfied: colorama in c:\\users\\kuksh\\anaconda3\\lib\\site-packages (from tqdm>=4.27->transformers) (0.4.4)\n",
      "Requirement already satisfied: charset-normalizer<4,>=2 in c:\\users\\kuksh\\anaconda3\\lib\\site-packages (from requests->transformers) (2.0.4)\n",
      "Requirement already satisfied: idna<4,>=2.5 in c:\\users\\kuksh\\anaconda3\\lib\\site-packages (from requests->transformers) (3.3)\n",
      "Requirement already satisfied: urllib3<3,>=1.21.1 in c:\\users\\kuksh\\anaconda3\\lib\\site-packages (from requests->transformers) (1.26.9)\n",
      "Requirement already satisfied: certifi>=2017.4.17 in c:\\users\\kuksh\\anaconda3\\lib\\site-packages (from requests->transformers) (2021.10.8)"
     ]
    },
    {
     "name": "stderr",
     "output_type": "stream",
     "text": [
      "WARNING: Ignoring invalid distribution -pencv-python (c:\\users\\kuksh\\anaconda3\\lib\\site-packages)\n",
      "WARNING: Ignoring invalid distribution -pencv-python (c:\\users\\kuksh\\anaconda3\\lib\\site-packages)\n",
      "  WARNING: Failed to remove contents in a temporary directory 'C:\\Users\\kuksh\\anaconda3\\Lib\\site-packages\\~4mpy'.\n",
      "  You can safely remove it manually.\n",
      "  WARNING: Failed to remove contents in a temporary directory 'C:\\Users\\kuksh\\anaconda3\\Lib\\site-packages\\~cipy.libs'.\n",
      "  You can safely remove it manually.\n",
      "  WARNING: Failed to remove contents in a temporary directory 'C:\\Users\\kuksh\\anaconda3\\Lib\\site-packages\\~cipy'.\n",
      "  You can safely remove it manually.\n",
      "  WARNING: Failed to remove contents in a temporary directory 'C:\\Users\\kuksh\\anaconda3\\Lib\\site-packages\\~okenizers'.\n",
      "  You can safely remove it manually.\n",
      "WARNING: Ignoring invalid distribution -pencv-python (c:\\users\\kuksh\\anaconda3\\lib\\site-packages)\n",
      "ERROR: pip's dependency resolver does not currently take into account all the packages that are installed. This behaviour is the source of the following dependency conflicts.\n",
      "daal4py 2021.5.0 requires daal==2021.4.0, which is not installed.\n",
      "chromadb 0.5.23 requires tokenizers<=0.20.3,>=0.13.2, but you have tokenizers 0.21.0 which is incompatible.\n",
      "langchain 0.3.7 requires numpy<2,>=1; python_version < \"3.12\", but you have numpy 2.0.2 which is incompatible.\n",
      "langchain-community 0.3.5 requires numpy<2,>=1; python_version < \"3.12\", but you have numpy 2.0.2 which is incompatible.\n",
      "numba 0.55.1 requires numpy<1.22,>=1.18, but you have numpy 2.0.2 which is incompatible.\n"
     ]
    },
    {
     "name": "stdout",
     "output_type": "stream",
     "text": [
      "\n",
      "Using cached numpy-2.0.2-cp39-cp39-win_amd64.whl (15.9 MB)\n",
      "Downloading scipy-1.13.1-cp39-cp39-win_amd64.whl (46.2 MB)\n",
      "   ---------------------------------------- 46.2/46.2 MB 2.6 MB/s eta 0:00:00\n",
      "Downloading transformers-4.49.0-py3-none-any.whl (10.0 MB)\n",
      "   ---------------------------------------- 10.0/10.0 MB 3.3 MB/s eta 0:00:00\n",
      "Downloading tokenizers-0.21.0-cp39-abi3-win_amd64.whl (2.4 MB)\n",
      "   ---------------------------------------- 2.4/2.4 MB 2.4 MB/s eta 0:00:00\n",
      "Installing collected packages: numpy, scipy, tokenizers, transformers\n",
      "  Attempting uninstall: numpy\n",
      "    Found existing installation: numpy 1.21.6\n",
      "    Uninstalling numpy-1.21.6:\n",
      "      Successfully uninstalled numpy-1.21.6\n",
      "  Attempting uninstall: scipy\n",
      "    Found existing installation: scipy 1.11.4\n",
      "    Uninstalling scipy-1.11.4:\n",
      "      Successfully uninstalled scipy-1.11.4\n",
      "  Attempting uninstall: tokenizers\n",
      "    Found existing installation: tokenizers 0.20.1\n",
      "    Uninstalling tokenizers-0.20.1:\n",
      "      Successfully uninstalled tokenizers-0.20.1\n",
      "  Attempting uninstall: transformers\n",
      "    Found existing installation: transformers 4.46.1\n",
      "    Uninstalling transformers-4.46.1:\n",
      "      Successfully uninstalled transformers-4.46.1\n",
      "Successfully installed numpy-2.0.2 scipy-1.13.1 tokenizers-0.21.0 transformers-4.49.0\n"
     ]
    }
   ],
   "source": [
    "!pip install --upgrade numpy scipy transformers\n"
   ]
  },
  {
   "cell_type": "code",
   "execution_count": 6,
   "id": "9f3d35b6",
   "metadata": {},
   "outputs": [
    {
     "name": "stdout",
     "output_type": "stream",
     "text": [
      "Note: you may need to restart the kernel to use updated packages.Requirement already satisfied: transformers in c:\\users\\kuksh\\anaconda3\\lib\\site-packages (4.49.0)\n",
      "Requirement already satisfied: torch in c:\\users\\kuksh\\anaconda3\\lib\\site-packages (2.6.0+cpu)\n",
      "Requirement already satisfied: scipy in c:\\users\\kuksh\\anaconda3\\lib\\site-packages (1.13.1)\n",
      "Requirement already satisfied: filelock in c:\\users\\kuksh\\anaconda3\\lib\\site-packages (from transformers) (3.6.0)\n",
      "Requirement already satisfied: huggingface-hub<1.0,>=0.26.0 in c:\\users\\kuksh\\anaconda3\\lib\\site-packages (from transformers) (0.26.2)\n",
      "Requirement already satisfied: numpy>=1.17 in c:\\users\\kuksh\\anaconda3\\lib\\site-packages (from transformers) (2.0.2)\n",
      "Requirement already satisfied: packaging>=20.0 in c:\\users\\kuksh\\anaconda3\\lib\\site-packages (from transformers) (24.1)\n",
      "Requirement already satisfied: pyyaml>=5.1 in c:\\users\\kuksh\\anaconda3\\lib\\site-packages (from transformers) (6.0)\n",
      "Requirement already satisfied: regex!=2019.12.17 in c:\\users\\kuksh\\anaconda3\\lib\\site-packages (from transformers) (2022.3.15)\n",
      "Requirement already satisfied: requests in c:\\users\\kuksh\\anaconda3\\lib\\site-packages (from transformers) (2.32.3)\n",
      "Requirement already satisfied: tokenizers<0.22,>=0.21 in c:\\users\\kuksh\\anaconda3\\lib\\site-packages (from transformers) (0.21.0)\n",
      "Requirement already satisfied: safetensors>=0.4.1 in c:\\users\\kuksh\\anaconda3\\lib\\site-packages (from transformers) (0.4.5)\n",
      "Requirement already satisfied: tqdm>=4.27 in c:\\users\\kuksh\\anaconda3\\lib\\site-packages (from transformers) (4.66.5)\n",
      "Requirement already satisfied: typing-extensions>=4.10.0 in c:\\users\\kuksh\\anaconda3\\lib\\site-packages (from torch) (4.12.2)\n",
      "\n",
      "Requirement already satisfied: networkx in c:\\users\\kuksh\\anaconda3\\lib\\site-packages (from torch) (2.7.1)\n",
      "Requirement already satisfied: jinja2 in c:\\users\\kuksh\\anaconda3\\lib\\site-packages (from torch) (2.11.3)\n",
      "Requirement already satisfied: fsspec in c:\\users\\kuksh\\anaconda3\\lib\\site-packages (from torch) (2024.9.0)\n",
      "Requirement already satisfied: sympy==1.13.1 in c:\\users\\kuksh\\anaconda3\\lib\\site-packages (from torch) (1.13.1)\n",
      "Requirement already satisfied: mpmath<1.4,>=1.1.0 in c:\\users\\kuksh\\anaconda3\\lib\\site-packages (from sympy==1.13.1->torch) (1.2.1)\n",
      "Requirement already satisfied: colorama in c:\\users\\kuksh\\anaconda3\\lib\\site-packages (from tqdm>=4.27->transformers) (0.4.4)\n",
      "Requirement already satisfied: MarkupSafe>=0.23 in c:\\users\\kuksh\\anaconda3\\lib\\site-packages (from jinja2->torch) (2.0.1)\n",
      "Requirement already satisfied: charset-normalizer<4,>=2 in c:\\users\\kuksh\\anaconda3\\lib\\site-packages (from requests->transformers) (2.0.4)\n",
      "Requirement already satisfied: idna<4,>=2.5 in c:\\users\\kuksh\\anaconda3\\lib\\site-packages (from requests->transformers) (3.3)\n",
      "Requirement already satisfied: urllib3<3,>=1.21.1 in c:\\users\\kuksh\\anaconda3\\lib\\site-packages (from requests->transformers) (1.26.9)\n",
      "Requirement already satisfied: certifi>=2017.4.17 in c:\\users\\kuksh\\anaconda3\\lib\\site-packages (from requests->transformers) (2021.10.8)\n"
     ]
    },
    {
     "name": "stderr",
     "output_type": "stream",
     "text": [
      "WARNING: Ignoring invalid distribution -pencv-python (c:\\users\\kuksh\\anaconda3\\lib\\site-packages)\n",
      "WARNING: Ignoring invalid distribution -pencv-python (c:\\users\\kuksh\\anaconda3\\lib\\site-packages)\n",
      "WARNING: Ignoring invalid distribution -pencv-python (c:\\users\\kuksh\\anaconda3\\lib\\site-packages)\n"
     ]
    }
   ],
   "source": [
    "pip install --upgrade transformers torch scipy\n"
   ]
  },
  {
   "cell_type": "code",
   "execution_count": 2,
   "id": "5c9ef10a",
   "metadata": {},
   "outputs": [
    {
     "name": "stdout",
     "output_type": "stream",
     "text": [
      "Requirement already satisfied: numpy in c:\\users\\kuksh\\anaconda3\\lib\\site-packages (2.0.2)\n",
      "Requirement already satisfied: scipy in c:\\users\\kuksh\\anaconda3\\lib\\site-packages (1.13.1)\n",
      "Requirement already satisfied: scikit-learn in c:\\users\\kuksh\\anaconda3\\lib\\site-packages (1.0.2)\n",
      "Collecting scikit-learn\n",
      "  Downloading scikit_learn-1.6.1-cp39-cp39-win_amd64.whl.metadata (15 kB)\n",
      "Collecting joblib>=1.2.0 (from scikit-learn)\n",
      "  Downloading joblib-1.4.2-py3-none-any.whl.metadata (5.4 kB)\n",
      "Collecting threadpoolctl>=3.1.0 (from scikit-learn)\n",
      "  Downloading threadpoolctl-3.5.0-py3-none-any.whl.metadata (13 kB)\n",
      "Downloading scikit_learn-1.6.1-cp39-cp39-win_amd64.whl (11.2 MB)\n",
      "   ---------------------------------------- 11.2/11.2 MB 2.8 MB/s eta 0:00:00\n",
      "Downloading joblib-1.4.2-py3-none-any.whl (301 kB)\n",
      "Downloading threadpoolctl-3.5.0-py3-none-any.whl (18 kB)\n",
      "Installing collected packages: threadpoolctl, joblib, scikit-learn\n",
      "  Attempting uninstall: threadpoolctl\n",
      "    Found existing installation: threadpoolctl 2.2.0\n",
      "    Uninstalling threadpoolctl-2.2.0:\n",
      "      Successfully uninstalled threadpoolctl-2.2.0\n",
      "  Attempting uninstall: joblib\n",
      "    Found existing installation: joblib 1.1.0\n",
      "    Uninstalling joblib-1.1.0:\n",
      "      Successfully uninstalled joblib-1.1.0\n",
      "  Attempting uninstall: scikit-learn\n",
      "    Found existing installation: scikit-learn 1.0.2\n",
      "    Uninstalling scikit-learn-1.0.2:\n",
      "      Successfully uninstalled scikit-learn-1.0.2\n",
      "Successfully installed joblib-1.4.2 scikit-learn-1.6.1 threadpoolctl-3.5.0\n",
      "Note: you may need to restart the kernel to use updated packages.\n"
     ]
    },
    {
     "name": "stderr",
     "output_type": "stream",
     "text": [
      "WARNING: Ignoring invalid distribution -pencv-python (c:\\users\\kuksh\\anaconda3\\lib\\site-packages)\n",
      "WARNING: Ignoring invalid distribution -pencv-python (c:\\users\\kuksh\\anaconda3\\lib\\site-packages)\n",
      "WARNING: Ignoring invalid distribution -pencv-python (c:\\users\\kuksh\\anaconda3\\lib\\site-packages)\n"
     ]
    }
   ],
   "source": [
    "pip install --upgrade numpy scipy scikit-learn\n"
   ]
  },
  {
   "cell_type": "code",
   "execution_count": 3,
   "id": "31e763b0",
   "metadata": {},
   "outputs": [
    {
     "name": "stdout",
     "output_type": "stream",
     "text": [
      "Requirement already satisfied: transformers in c:\\users\\kuksh\\anaconda3\\lib\\site-packages (4.49.0)\n",
      "Requirement already satisfied: torch in c:\\users\\kuksh\\anaconda3\\lib\\site-packages (2.6.0+cpu)\n",
      "Requirement already satisfied: filelock in c:\\users\\kuksh\\anaconda3\\lib\\site-packages (from transformers) (3.6.0)\n",
      "Requirement already satisfied: huggingface-hub<1.0,>=0.26.0 in c:\\users\\kuksh\\anaconda3\\lib\\site-packages (from transformers) (0.26.2)\n",
      "Requirement already satisfied: numpy>=1.17 in c:\\users\\kuksh\\anaconda3\\lib\\site-packages (from transformers) (2.0.2)\n",
      "Requirement already satisfied: packaging>=20.0 in c:\\users\\kuksh\\anaconda3\\lib\\site-packages (from transformers) (24.1)\n",
      "Requirement already satisfied: pyyaml>=5.1 in c:\\users\\kuksh\\anaconda3\\lib\\site-packages (from transformers) (6.0)\n",
      "Requirement already satisfied: regex!=2019.12.17 in c:\\users\\kuksh\\anaconda3\\lib\\site-packages (from transformers) (2022.3.15)\n",
      "Requirement already satisfied: requests in c:\\users\\kuksh\\anaconda3\\lib\\site-packages (from transformers) (2.32.3)\n",
      "Requirement already satisfied: tokenizers<0.22,>=0.21 in c:\\users\\kuksh\\anaconda3\\lib\\site-packages (from transformers) (0.21.0)\n",
      "Requirement already satisfied: safetensors>=0.4.1 in c:\\users\\kuksh\\anaconda3\\lib\\site-packages (from transformers) (0.4.5)\n",
      "Requirement already satisfied: tqdm>=4.27 in c:\\users\\kuksh\\anaconda3\\lib\\site-packages (from transformers) (4.66.5)\n",
      "Requirement already satisfied: typing-extensions>=4.10.0 in c:\\users\\kuksh\\anaconda3\\lib\\site-packages (from torch) (4.12.2)\n",
      "Requirement already satisfied: networkx in c:\\users\\kuksh\\anaconda3\\lib\\site-packages (from torch) (2.7.1)\n",
      "Requirement already satisfied: jinja2 in c:\\users\\kuksh\\anaconda3\\lib\\site-packages (from torch) (2.11.3)\n",
      "Requirement already satisfied: fsspec in c:\\users\\kuksh\\anaconda3\\lib\\site-packages (from torch) (2024.9.0)\n",
      "Requirement already satisfied: sympy==1.13.1 in c:\\users\\kuksh\\anaconda3\\lib\\site-packages (from torch) (1.13.1)\n",
      "Requirement already satisfied: mpmath<1.4,>=1.1.0 in c:\\users\\kuksh\\anaconda3\\lib\\site-packages (from sympy==1.13.1->torch) (1.2.1)\n",
      "Requirement already satisfied: colorama in c:\\users\\kuksh\\anaconda3\\lib\\site-packages (from tqdm>=4.27->transformers) (0.4.4)\n",
      "Requirement already satisfied: MarkupSafe>=0.23 in c:\\users\\kuksh\\anaconda3\\lib\\site-packages (from jinja2->torch) (2.0.1)\n",
      "Requirement already satisfied: charset-normalizer<4,>=2 in c:\\users\\kuksh\\anaconda3\\lib\\site-packages (from requests->transformers) (2.0.4)\n",
      "Requirement already satisfied: idna<4,>=2.5 in c:\\users\\kuksh\\anaconda3\\lib\\site-packages (from requests->transformers) (3.3)\n",
      "Requirement already satisfied: urllib3<3,>=1.21.1 in c:\\users\\kuksh\\anaconda3\\lib\\site-packages (from requests->transformers) (1.26.9)\n",
      "Requirement already satisfied: certifi>=2017.4.17 in c:\\users\\kuksh\\anaconda3\\lib\\site-packages (from requests->transformers) (2021.10.8)\n",
      "Note: you may need to restart the kernel to use updated packages.\n"
     ]
    },
    {
     "name": "stderr",
     "output_type": "stream",
     "text": [
      "WARNING: Ignoring invalid distribution -pencv-python (c:\\users\\kuksh\\anaconda3\\lib\\site-packages)\n",
      "WARNING: Ignoring invalid distribution -pencv-python (c:\\users\\kuksh\\anaconda3\\lib\\site-packages)\n",
      "WARNING: Ignoring invalid distribution -pencv-python (c:\\users\\kuksh\\anaconda3\\lib\\site-packages)\n"
     ]
    }
   ],
   "source": [
    "pip install --upgrade transformers torch\n"
   ]
  },
  {
   "cell_type": "code",
   "execution_count": 7,
   "id": "5e048c17",
   "metadata": {},
   "outputs": [
    {
     "name": "stdout",
     "output_type": "stream",
     "text": [
      "Collecting transformers==4.24.0"
     ]
    },
    {
     "name": "stderr",
     "output_type": "stream",
     "text": [
      "WARNING: Ignoring invalid distribution -pencv-python (c:\\users\\kuksh\\anaconda3\\lib\\site-packages)\n",
      "WARNING: Ignoring invalid distribution -pencv-python (c:\\users\\kuksh\\anaconda3\\lib\\site-packages)\n",
      "  WARNING: Failed to remove contents in a temporary directory 'C:\\Users\\kuksh\\anaconda3\\Lib\\site-packages\\~-kenizers'.\n",
      "  You can safely remove it manually.\n",
      "WARNING: Ignoring invalid distribution -pencv-python (c:\\users\\kuksh\\anaconda3\\lib\\site-packages)\n"
     ]
    },
    {
     "name": "stdout",
     "output_type": "stream",
     "text": [
      "\n",
      "  Downloading transformers-4.24.0-py3-none-any.whl.metadata (90 kB)\n",
      "Requirement already satisfied: filelock in c:\\users\\kuksh\\anaconda3\\lib\\site-packages (from transformers==4.24.0) (3.6.0)\n",
      "Requirement already satisfied: huggingface-hub<1.0,>=0.10.0 in c:\\users\\kuksh\\anaconda3\\lib\\site-packages (from transformers==4.24.0) (0.26.2)\n",
      "Requirement already satisfied: numpy>=1.17 in c:\\users\\kuksh\\anaconda3\\lib\\site-packages (from transformers==4.24.0) (2.0.2)\n",
      "Requirement already satisfied: packaging>=20.0 in c:\\users\\kuksh\\anaconda3\\lib\\site-packages (from transformers==4.24.0) (24.1)\n",
      "Requirement already satisfied: pyyaml>=5.1 in c:\\users\\kuksh\\anaconda3\\lib\\site-packages (from transformers==4.24.0) (6.0)\n",
      "Requirement already satisfied: regex!=2019.12.17 in c:\\users\\kuksh\\anaconda3\\lib\\site-packages (from transformers==4.24.0) (2022.3.15)\n",
      "Requirement already satisfied: requests in c:\\users\\kuksh\\anaconda3\\lib\\site-packages (from transformers==4.24.0) (2.32.3)\n",
      "Collecting tokenizers!=0.11.3,<0.14,>=0.11.1 (from transformers==4.24.0)\n",
      "  Downloading tokenizers-0.13.3-cp39-cp39-win_amd64.whl.metadata (6.9 kB)\n",
      "Requirement already satisfied: tqdm>=4.27 in c:\\users\\kuksh\\anaconda3\\lib\\site-packages (from transformers==4.24.0) (4.66.5)\n",
      "Requirement already satisfied: fsspec>=2023.5.0 in c:\\users\\kuksh\\anaconda3\\lib\\site-packages (from huggingface-hub<1.0,>=0.10.0->transformers==4.24.0) (2024.9.0)\n",
      "Requirement already satisfied: typing-extensions>=3.7.4.3 in c:\\users\\kuksh\\anaconda3\\lib\\site-packages (from huggingface-hub<1.0,>=0.10.0->transformers==4.24.0) (4.12.2)\n",
      "Requirement already satisfied: colorama in c:\\users\\kuksh\\anaconda3\\lib\\site-packages (from tqdm>=4.27->transformers==4.24.0) (0.4.4)\n",
      "Requirement already satisfied: charset-normalizer<4,>=2 in c:\\users\\kuksh\\anaconda3\\lib\\site-packages (from requests->transformers==4.24.0) (2.0.4)\n",
      "Requirement already satisfied: idna<4,>=2.5 in c:\\users\\kuksh\\anaconda3\\lib\\site-packages (from requests->transformers==4.24.0) (3.3)\n",
      "Requirement already satisfied: urllib3<3,>=1.21.1 in c:\\users\\kuksh\\anaconda3\\lib\\site-packages (from requests->transformers==4.24.0) (1.26.9)\n",
      "Requirement already satisfied: certifi>=2017.4.17 in c:\\users\\kuksh\\anaconda3\\lib\\site-packages (from requests->transformers==4.24.0) (2021.10.8)\n",
      "Downloading transformers-4.24.0-py3-none-any.whl (5.5 MB)\n",
      "   ---------------------------------------- 5.5/5.5 MB 1.5 MB/s eta 0:00:00\n",
      "Downloading tokenizers-0.13.3-cp39-cp39-win_amd64.whl (3.5 MB)\n",
      "   ---------------------------------------- 3.5/3.5 MB 1.3 MB/s eta 0:00:00\n",
      "Installing collected packages: tokenizers, transformers\n",
      "  Attempting uninstall: tokenizers\n",
      "    Found existing installation: tokenizers 0.21.0\n",
      "    Uninstalling tokenizers-0.21.0:\n",
      "      Successfully uninstalled tokenizers-0.21.0\n",
      "  Attempting uninstall: transformers\n",
      "    Found existing installation: transformers 4.49.0\n",
      "    Uninstalling transformers-4.49.0:\n",
      "      Successfully uninstalled transformers-4.49.0\n",
      "Successfully installed tokenizers-0.13.3 transformers-4.24.0\n",
      "Collecting numpy==1.21.6"
     ]
    },
    {
     "name": "stderr",
     "output_type": "stream",
     "text": [
      "WARNING: Ignoring invalid distribution -pencv-python (c:\\users\\kuksh\\anaconda3\\lib\\site-packages)\n",
      "WARNING: Ignoring invalid distribution -pencv-python (c:\\users\\kuksh\\anaconda3\\lib\\site-packages)\n",
      "  WARNING: Failed to remove contents in a temporary directory 'C:\\Users\\kuksh\\anaconda3\\Lib\\site-packages\\~0mpy.libs'.\n",
      "  You can safely remove it manually.\n",
      "  WARNING: Failed to remove contents in a temporary directory 'C:\\Users\\kuksh\\anaconda3\\Lib\\site-packages\\~5mpy'.\n",
      "  You can safely remove it manually.\n",
      "WARNING: Ignoring invalid distribution -pencv-python (c:\\users\\kuksh\\anaconda3\\lib\\site-packages)\n",
      "ERROR: pip's dependency resolver does not currently take into account all the packages that are installed. This behaviour is the source of the following dependency conflicts.\n",
      "daal4py 2021.5.0 requires daal==2021.4.0, which is not installed.\n",
      "chromadb 0.5.23 requires numpy>=1.22.5, but you have numpy 1.21.6 which is incompatible.\n",
      "geopandas 1.0.1 requires numpy>=1.22, but you have numpy 1.21.6 which is incompatible.\n",
      "osmnx 2.0.1 requires numpy>=1.22, but you have numpy 1.21.6 which is incompatible.\n",
      "scipy 1.13.1 requires numpy<2.3,>=1.22.4, but you have numpy 1.21.6 which is incompatible.\n",
      "streamlit 1.41.1 requires numpy<3,>=1.23, but you have numpy 1.21.6 which is incompatible.\n",
      "tensorflow-intel 2.18.0 requires numpy<2.1.0,>=1.26.0, but you have numpy 1.21.6 which is incompatible.\n",
      "ultralytics 8.3.5 requires numpy>=1.23.0, but you have numpy 1.21.6 which is incompatible.\n"
     ]
    },
    {
     "name": "stdout",
     "output_type": "stream",
     "text": [
      "\n",
      "  Using cached numpy-1.21.6-cp39-cp39-win_amd64.whl.metadata (2.2 kB)\n",
      "Using cached numpy-1.21.6-cp39-cp39-win_amd64.whl (14.0 MB)\n",
      "Installing collected packages: numpy\n",
      "  Attempting uninstall: numpy\n",
      "    Found existing installation: numpy 2.0.2\n",
      "    Uninstalling numpy-2.0.2:\n",
      "      Successfully uninstalled numpy-2.0.2\n",
      "Successfully installed numpy-1.21.6\n",
      "Collecting scikit-learn==0.24.2\n",
      "  Downloading scikit_learn-0.24.2-cp39-cp39-win_amd64.whl.metadata (9.8 kB)\n",
      "Requirement already satisfied: numpy>=1.13.3 in c:\\users\\kuksh\\anaconda3\\lib\\site-packages (from scikit-learn==0.24.2) (1.21.6)\n",
      "Requirement already satisfied: scipy>=0.19.1 in c:\\users\\kuksh\\anaconda3\\lib\\site-packages (from scikit-learn==0.24.2) (1.13.1)\n",
      "Requirement already satisfied: joblib>=0.11 in c:\\users\\kuksh\\anaconda3\\lib\\site-packages (from scikit-learn==0.24.2) (1.4.2)\n",
      "Requirement already satisfied: threadpoolctl>=2.0.0 in c:\\users\\kuksh\\anaconda3\\lib\\site-packages (from scikit-learn==0.24.2) (3.5.0)\n",
      "Collecting numpy>=1.13.3 (from scikit-learn==0.24.2)\n",
      "  Using cached numpy-2.0.2-cp39-cp39-win_amd64.whl.metadata (59 kB)\n",
      "Downloading scikit_learn-0.24.2-cp39-cp39-win_amd64.whl (6.9 MB)\n",
      "   ---------------------------------------- 6.9/6.9 MB 465.0 kB/s eta 0:00:00\n",
      "Using cached numpy-2.0.2-cp39-cp39-win_amd64.whl (15.9 MB)\n",
      "Installing collected packages: numpy, scikit-learn\n",
      "  Attempting uninstall: numpy\n",
      "    Found existing installation: numpy 1.21.6\n",
      "    Uninstalling numpy-1.21.6:\n",
      "      Successfully uninstalled numpy-1.21.6\n",
      "  Attempting uninstall: scikit-learn\n",
      "    Found existing installation: scikit-learn 1.6.1\n",
      "    Uninstalling scikit-learn-1.6.1:\n",
      "      Successfully uninstalled scikit-learn-1.6.1\n",
      "Successfully installed numpy-2.0.2 scikit-learn-0.24.2\n"
     ]
    },
    {
     "name": "stderr",
     "output_type": "stream",
     "text": [
      "WARNING: Ignoring invalid distribution -pencv-python (c:\\users\\kuksh\\anaconda3\\lib\\site-packages)\n",
      "WARNING: Ignoring invalid distribution -pencv-python (c:\\users\\kuksh\\anaconda3\\lib\\site-packages)\n",
      "WARNING: Ignoring invalid distribution -pencv-python (c:\\users\\kuksh\\anaconda3\\lib\\site-packages)\n",
      "ERROR: pip's dependency resolver does not currently take into account all the packages that are installed. This behaviour is the source of the following dependency conflicts.\n",
      "daal4py 2021.5.0 requires daal==2021.4.0, which is not installed.\n",
      "langchain 0.3.7 requires numpy<2,>=1; python_version < \"3.12\", but you have numpy 2.0.2 which is incompatible.\n",
      "langchain-community 0.3.5 requires numpy<2,>=1; python_version < \"3.12\", but you have numpy 2.0.2 which is incompatible.\n",
      "numba 0.55.1 requires numpy<1.22,>=1.18, but you have numpy 2.0.2 which is incompatible.\n"
     ]
    },
    {
     "name": "stdout",
     "output_type": "stream",
     "text": [
      "Collecting torch==1.10.0"
     ]
    },
    {
     "name": "stderr",
     "output_type": "stream",
     "text": [
      "WARNING: Ignoring invalid distribution -pencv-python (c:\\users\\kuksh\\anaconda3\\lib\\site-packages)\n",
      "WARNING: Ignoring invalid distribution -pencv-python (c:\\users\\kuksh\\anaconda3\\lib\\site-packages)\n",
      "  WARNING: Failed to remove contents in a temporary directory 'C:\\Users\\kuksh\\anaconda3\\Lib\\site-packages\\~-rch'.\n",
      "  You can safely remove it manually.\n",
      "WARNING: Ignoring invalid distribution -pencv-python (c:\\users\\kuksh\\anaconda3\\lib\\site-packages)\n",
      "ERROR: pip's dependency resolver does not currently take into account all the packages that are installed. This behaviour is the source of the following dependency conflicts.\n",
      "torchaudio 2.6.0+cpu requires torch==2.6.0, but you have torch 1.10.0 which is incompatible.\n",
      "torchvision 0.21.0+cpu requires torch==2.6.0, but you have torch 1.10.0 which is incompatible.\n"
     ]
    },
    {
     "name": "stdout",
     "output_type": "stream",
     "text": [
      "\n",
      "  Downloading torch-1.10.0-cp39-cp39-win_amd64.whl.metadata (24 kB)\n",
      "Requirement already satisfied: typing-extensions in c:\\users\\kuksh\\anaconda3\\lib\\site-packages (from torch==1.10.0) (4.12.2)\n",
      "Downloading torch-1.10.0-cp39-cp39-win_amd64.whl (226.5 MB)\n",
      "   ---------------------------------------- 226.5/226.5 MB 1.4 MB/s eta 0:00:00\n",
      "Installing collected packages: torch\n",
      "  Attempting uninstall: torch\n",
      "    Found existing installation: torch 2.6.0+cpu\n",
      "    Uninstalling torch-2.6.0+cpu:\n",
      "      Successfully uninstalled torch-2.6.0+cpu\n",
      "Successfully installed torch-1.10.0\n",
      "Collecting librosa==0.8.1\n",
      "  Downloading librosa-0.8.1-py3-none-any.whl.metadata (6.8 kB)\n",
      "Requirement already satisfied: audioread>=2.0.0 in c:\\users\\kuksh\\anaconda3\\lib\\site-packages (from librosa==0.8.1) (3.0.1)\n",
      "Requirement already satisfied: numpy>=1.15.0 in c:\\users\\kuksh\\anaconda3\\lib\\site-packages (from librosa==0.8.1) (2.0.2)\n",
      "Requirement already satisfied: scipy>=1.0.0 in c:\\users\\kuksh\\anaconda3\\lib\\site-packages (from librosa==0.8.1) (1.13.1)\n",
      "Requirement already satisfied: scikit-learn!=0.19.0,>=0.14.0 in c:\\users\\kuksh\\anaconda3\\lib\\site-packages (from librosa==0.8.1) (0.24.2)\n",
      "Requirement already satisfied: joblib>=0.14 in c:\\users\\kuksh\\anaconda3\\lib\\site-packages (from librosa==0.8.1) (1.4.2)\n",
      "Requirement already satisfied: decorator>=3.0.0 in c:\\users\\kuksh\\anaconda3\\lib\\site-packages (from librosa==0.8.1) (5.1.1)\n",
      "Collecting resampy>=0.2.2 (from librosa==0.8.1)\n",
      "  Downloading resampy-0.4.3-py3-none-any.whl.metadata (3.0 kB)\n",
      "Requirement already satisfied: numba>=0.43.0 in c:\\users\\kuksh\\anaconda3\\lib\\site-packages (from librosa==0.8.1) (0.55.1)\n",
      "Requirement already satisfied: soundfile>=0.10.2 in c:\\users\\kuksh\\anaconda3\\lib\\site-packages (from librosa==0.8.1) (0.13.1)\n",
      "Requirement already satisfied: pooch>=1.0 in c:\\users\\kuksh\\anaconda3\\lib\\site-packages (from librosa==0.8.1) (1.8.2)\n",
      "Requirement already satisfied: packaging>=20.0 in c:\\users\\kuksh\\anaconda3\\lib\\site-packages (from librosa==0.8.1) (24.1)\n",
      "Requirement already satisfied: llvmlite<0.39,>=0.38.0rc1 in c:\\users\\kuksh\\anaconda3\\lib\\site-packages (from numba>=0.43.0->librosa==0.8.1) (0.38.0)\n",
      "Collecting numpy>=1.15.0 (from librosa==0.8.1)\n",
      "  Using cached numpy-1.21.6-cp39-cp39-win_amd64.whl.metadata (2.2 kB)\n",
      "Requirement already satisfied: setuptools in c:\\users\\kuksh\\anaconda3\\lib\\site-packages (from numba>=0.43.0->librosa==0.8.1) (75.8.2)\n",
      "Requirement already satisfied: platformdirs>=2.5.0 in c:\\users\\kuksh\\anaconda3\\lib\\site-packages (from pooch>=1.0->librosa==0.8.1) (4.3.6)\n",
      "Requirement already satisfied: requests>=2.19.0 in c:\\users\\kuksh\\anaconda3\\lib\\site-packages (from pooch>=1.0->librosa==0.8.1) (2.32.3)\n",
      "Requirement already satisfied: threadpoolctl>=2.0.0 in c:\\users\\kuksh\\anaconda3\\lib\\site-packages (from scikit-learn!=0.19.0,>=0.14.0->librosa==0.8.1) (3.5.0)\n",
      "INFO: pip is looking at multiple versions of scipy to determine which version is compatible with other requirements. This could take a while.\n",
      "Collecting scipy>=1.0.0 (from librosa==0.8.1)\n",
      "  Using cached scipy-1.13.0-cp39-cp39-win_amd64.whl.metadata (60 kB)\n",
      "  Using cached scipy-1.12.0-cp39-cp39-win_amd64.whl.metadata (60 kB)\n",
      "  Using cached scipy-1.11.4-cp39-cp39-win_amd64.whl.metadata (60 kB)\n",
      "Requirement already satisfied: cffi>=1.0 in c:\\users\\kuksh\\anaconda3\\lib\\site-packages (from soundfile>=0.10.2->librosa==0.8.1) (1.15.0)\n",
      "Requirement already satisfied: pycparser in c:\\users\\kuksh\\anaconda3\\lib\\site-packages (from cffi>=1.0->soundfile>=0.10.2->librosa==0.8.1) (2.21)\n",
      "Requirement already satisfied: charset-normalizer<4,>=2 in c:\\users\\kuksh\\anaconda3\\lib\\site-packages (from requests>=2.19.0->pooch>=1.0->librosa==0.8.1) (2.0.4)\n",
      "Requirement already satisfied: idna<4,>=2.5 in c:\\users\\kuksh\\anaconda3\\lib\\site-packages (from requests>=2.19.0->pooch>=1.0->librosa==0.8.1) (3.3)\n",
      "Requirement already satisfied: urllib3<3,>=1.21.1 in c:\\users\\kuksh\\anaconda3\\lib\\site-packages (from requests>=2.19.0->pooch>=1.0->librosa==0.8.1) (1.26.9)\n",
      "Requirement already satisfied: certifi>=2017.4.17 in c:\\users\\kuksh\\anaconda3\\lib\\site-packages (from requests>=2.19.0->pooch>=1.0->librosa==0.8.1) (2021.10.8)"
     ]
    },
    {
     "name": "stderr",
     "output_type": "stream",
     "text": [
      "WARNING: Ignoring invalid distribution -pencv-python (c:\\users\\kuksh\\anaconda3\\lib\\site-packages)\n",
      "WARNING: Ignoring invalid distribution -pencv-python (c:\\users\\kuksh\\anaconda3\\lib\\site-packages)\n",
      "  WARNING: Failed to remove contents in a temporary directory 'C:\\Users\\kuksh\\anaconda3\\Lib\\site-packages\\~-ipy.libs'.\n",
      "  You can safely remove it manually.\n",
      "  WARNING: Failed to remove contents in a temporary directory 'C:\\Users\\kuksh\\anaconda3\\Lib\\site-packages\\~-ipy'.\n",
      "  You can safely remove it manually.\n",
      "WARNING: Ignoring invalid distribution -pencv-python (c:\\users\\kuksh\\anaconda3\\lib\\site-packages)\n",
      "ERROR: pip's dependency resolver does not currently take into account all the packages that are installed. This behaviour is the source of the following dependency conflicts.\n",
      "daal4py 2021.5.0 requires daal==2021.4.0, which is not installed.\n",
      "chromadb 0.5.23 requires numpy>=1.22.5, but you have numpy 1.21.6 which is incompatible.\n",
      "geopandas 1.0.1 requires numpy>=1.22, but you have numpy 1.21.6 which is incompatible.\n",
      "osmnx 2.0.1 requires numpy>=1.22, but you have numpy 1.21.6 which is incompatible.\n",
      "streamlit 1.41.1 requires numpy<3,>=1.23, but you have numpy 1.21.6 which is incompatible.\n",
      "tensorflow-intel 2.18.0 requires numpy<2.1.0,>=1.26.0, but you have numpy 1.21.6 which is incompatible.\n",
      "torchvision 0.21.0+cpu requires torch==2.6.0, but you have torch 1.10.0 which is incompatible.\n",
      "ultralytics 8.3.5 requires numpy>=1.23.0, but you have numpy 1.21.6 which is incompatible.\n"
     ]
    },
    {
     "name": "stdout",
     "output_type": "stream",
     "text": [
      "\n",
      "Downloading librosa-0.8.1-py3-none-any.whl (203 kB)\n",
      "Using cached numpy-1.21.6-cp39-cp39-win_amd64.whl (14.0 MB)\n",
      "Downloading resampy-0.4.3-py3-none-any.whl (3.1 MB)\n",
      "   ---------------------------------------- 3.1/3.1 MB 790.1 kB/s eta 0:00:00\n",
      "Using cached scipy-1.11.4-cp39-cp39-win_amd64.whl (44.3 MB)\n",
      "Installing collected packages: numpy, scipy, resampy, librosa\n",
      "  Attempting uninstall: numpy\n",
      "    Found existing installation: numpy 2.0.2\n",
      "    Uninstalling numpy-2.0.2:\n",
      "      Successfully uninstalled numpy-2.0.2\n",
      "  Attempting uninstall: scipy\n",
      "    Found existing installation: scipy 1.13.1\n",
      "    Uninstalling scipy-1.13.1:\n",
      "      Successfully uninstalled scipy-1.13.1\n",
      "  Attempting uninstall: librosa\n",
      "    Found existing installation: librosa 0.10.2.post1\n",
      "    Uninstalling librosa-0.10.2.post1:\n",
      "      Successfully uninstalled librosa-0.10.2.post1\n",
      "Successfully installed librosa-0.8.1 numpy-1.21.6 resampy-0.4.3 scipy-1.11.4\n"
     ]
    }
   ],
   "source": [
    "!pip install transformers==4.24.0\n",
    "!pip install numpy==1.21.6\n",
    "!pip install scikit-learn==0.24.2\n",
    "!pip install torch==1.10.0\n",
    "!pip install librosa==0.8.1\n"
   ]
  },
  {
   "cell_type": "code",
   "execution_count": 2,
   "id": "2f6defa7",
   "metadata": {},
   "outputs": [
    {
     "name": "stdout",
     "output_type": "stream",
     "text": [
      "Collecting numpy==1.23.5\n",
      "  Downloading numpy-1.23.5-cp39-cp39-win_amd64.whl.metadata (2.3 kB)\n",
      "Downloading numpy-1.23.5-cp39-cp39-win_amd64.whl (14.7 MB)\n",
      "   ---------------------------------------- 14.7/14.7 MB 454.8 kB/s eta 0:00:00\n",
      "Installing collected packages: numpy\n",
      "  Attempting uninstall: numpy\n",
      "    Found existing installation: numpy 1.21.6\n",
      "    Uninstalling numpy-1.21.6:\n",
      "      Successfully uninstalled numpy-1.21.6\n",
      "Successfully installed numpy-1.23.5\n"
     ]
    },
    {
     "name": "stderr",
     "output_type": "stream",
     "text": [
      "WARNING: Ignoring invalid distribution -pencv-python (c:\\users\\kuksh\\anaconda3\\lib\\site-packages)\n",
      "WARNING: Ignoring invalid distribution -pencv-python (c:\\users\\kuksh\\anaconda3\\lib\\site-packages)\n",
      "  WARNING: Failed to remove contents in a temporary directory 'C:\\Users\\kuksh\\anaconda3\\Lib\\site-packages\\~6mpy'.\n",
      "  You can safely remove it manually.\n",
      "WARNING: Ignoring invalid distribution -pencv-python (c:\\users\\kuksh\\anaconda3\\lib\\site-packages)\n",
      "ERROR: pip's dependency resolver does not currently take into account all the packages that are installed. This behaviour is the source of the following dependency conflicts.\n",
      "daal4py 2021.5.0 requires daal==2021.4.0, which is not installed.\n",
      "numba 0.55.1 requires numpy<1.22,>=1.18, but you have numpy 1.23.5 which is incompatible.\n",
      "tensorflow-intel 2.18.0 requires numpy<2.1.0,>=1.26.0, but you have numpy 1.23.5 which is incompatible.\n",
      "torchvision 0.21.0+cpu requires torch==2.6.0, but you have torch 1.10.0 which is incompatible.\n"
     ]
    },
    {
     "name": "stdout",
     "output_type": "stream",
     "text": [
      "Collecting scipy==1.10.1\n",
      "  Downloading scipy-1.10.1-cp39-cp39-win_amd64.whl.metadata (58 kB)\n",
      "Collecting librosa==0.9.2\n",
      "  Downloading librosa-0.9.2-py3-none-any.whl.metadata (8.2 kB)\n",
      "Requirement already satisfied: numpy<1.27.0,>=1.19.5 in c:\\users\\kuksh\\anaconda3\\lib\\site-packages (from scipy==1.10.1) (1.23.5)\n",
      "Requirement already satisfied: audioread>=2.1.9 in c:\\users\\kuksh\\anaconda3\\lib\\site-packages (from librosa==0.9.2) (3.0.1)\n",
      "Requirement already satisfied: scikit-learn>=0.19.1 in c:\\users\\kuksh\\anaconda3\\lib\\site-packages (from librosa==0.9.2) (0.24.2)\n",
      "Requirement already satisfied: joblib>=0.14 in c:\\users\\kuksh\\anaconda3\\lib\\site-packages (from librosa==0.9.2) (1.4.2)\n",
      "Requirement already satisfied: decorator>=4.0.10 in c:\\users\\kuksh\\anaconda3\\lib\\site-packages (from librosa==0.9.2) (5.1.1)\n",
      "Requirement already satisfied: resampy>=0.2.2 in c:\\users\\kuksh\\anaconda3\\lib\\site-packages (from librosa==0.9.2) (0.4.3)\n",
      "Requirement already satisfied: numba>=0.45.1 in c:\\users\\kuksh\\anaconda3\\lib\\site-packages (from librosa==0.9.2) (0.55.1)\n",
      "Requirement already satisfied: soundfile>=0.10.2 in c:\\users\\kuksh\\anaconda3\\lib\\site-packages (from librosa==0.9.2) (0.13.1)\n",
      "Requirement already satisfied: pooch>=1.0 in c:\\users\\kuksh\\anaconda3\\lib\\site-packages (from librosa==0.9.2) (1.8.2)\n",
      "Requirement already satisfied: packaging>=20.0 in c:\\users\\kuksh\\anaconda3\\lib\\site-packages (from librosa==0.9.2) (24.1)\n",
      "Requirement already satisfied: llvmlite<0.39,>=0.38.0rc1 in c:\\users\\kuksh\\anaconda3\\lib\\site-packages (from numba>=0.45.1->librosa==0.9.2) (0.38.0)\n",
      "Collecting numpy<1.27.0,>=1.19.5 (from scipy==1.10.1)\n",
      "  Using cached numpy-1.21.6-cp39-cp39-win_amd64.whl.metadata (2.2 kB)\n",
      "Requirement already satisfied: setuptools in c:\\users\\kuksh\\anaconda3\\lib\\site-packages (from numba>=0.45.1->librosa==0.9.2) (75.8.2)\n",
      "Requirement already satisfied: platformdirs>=2.5.0 in c:\\users\\kuksh\\anaconda3\\lib\\site-packages (from pooch>=1.0->librosa==0.9.2) (4.3.6)\n",
      "Requirement already satisfied: requests>=2.19.0 in c:\\users\\kuksh\\anaconda3\\lib\\site-packages (from pooch>=1.0->librosa==0.9.2) (2.32.3)\n",
      "Requirement already satisfied: threadpoolctl>=2.0.0 in c:\\users\\kuksh\\anaconda3\\lib\\site-packages (from scikit-learn>=0.19.1->librosa==0.9.2) (3.5.0)\n",
      "Requirement already satisfied: cffi>=1.0 in c:\\users\\kuksh\\anaconda3\\lib\\site-packages (from soundfile>=0.10.2->librosa==0.9.2) (1.15.0)\n",
      "Requirement already satisfied: pycparser in c:\\users\\kuksh\\anaconda3\\lib\\site-packages (from cffi>=1.0->soundfile>=0.10.2->librosa==0.9.2) (2.21)\n",
      "Requirement already satisfied: charset-normalizer<4,>=2 in c:\\users\\kuksh\\anaconda3\\lib\\site-packages (from requests>=2.19.0->pooch>=1.0->librosa==0.9.2) (2.0.4)\n",
      "Requirement already satisfied: idna<4,>=2.5 in c:\\users\\kuksh\\anaconda3\\lib\\site-packages (from requests>=2.19.0->pooch>=1.0->librosa==0.9.2) (3.3)\n",
      "Requirement already satisfied: urllib3<3,>=1.21.1 in c:\\users\\kuksh\\anaconda3\\lib\\site-packages (from requests>=2.19.0->pooch>=1.0->librosa==0.9.2) (1.26.9)\n",
      "Requirement already satisfied: certifi>=2017.4.17 in c:\\users\\kuksh\\anaconda3\\lib\\site-packages (from requests>=2.19.0->pooch>=1.0->librosa==0.9.2) (2021.10.8)\n",
      "Downloading scipy-1.10.1-cp39-cp39-win_amd64.whl (42.5 MB)\n",
      "   ---------------------------------------- 42.5/42.5 MB 1.1 MB/s eta 0:00:00\n",
      "Downloading librosa-0.9.2-py3-none-any.whl (214 kB)\n",
      "Using cached numpy-1.21.6-cp39-cp39-win_amd64.whl (14.0 MB)\n",
      "Installing collected packages: numpy, scipy, librosa\n",
      "  Attempting uninstall: numpy\n",
      "    Found existing installation: numpy 1.23.5\n",
      "    Uninstalling numpy-1.23.5:\n",
      "      Successfully uninstalled numpy-1.23.5\n",
      "  Attempting uninstall: scipy\n",
      "    Found existing installation: scipy 1.11.4\n",
      "    Uninstalling scipy-1.11.4:\n",
      "      Successfully uninstalled scipy-1.11.4\n",
      "  Attempting uninstall: librosa\n",
      "    Found existing installation: librosa 0.8.1\n",
      "    Uninstalling librosa-0.8.1:\n",
      "      Successfully uninstalled librosa-0.8.1\n",
      "Successfully installed librosa-0.9.2 numpy-1.21.6 scipy-1.10.1\n"
     ]
    },
    {
     "name": "stderr",
     "output_type": "stream",
     "text": [
      "WARNING: Ignoring invalid distribution -pencv-python (c:\\users\\kuksh\\anaconda3\\lib\\site-packages)\n",
      "WARNING: Ignoring invalid distribution -pencv-python (c:\\users\\kuksh\\anaconda3\\lib\\site-packages)\n",
      "  WARNING: Failed to remove contents in a temporary directory 'C:\\Users\\kuksh\\anaconda3\\Lib\\site-packages\\~~ipy.libs'.\n",
      "  You can safely remove it manually.\n",
      "  WARNING: Failed to remove contents in a temporary directory 'C:\\Users\\kuksh\\anaconda3\\Lib\\site-packages\\~~ipy'.\n",
      "  You can safely remove it manually.\n",
      "WARNING: Ignoring invalid distribution -pencv-python (c:\\users\\kuksh\\anaconda3\\lib\\site-packages)\n",
      "ERROR: pip's dependency resolver does not currently take into account all the packages that are installed. This behaviour is the source of the following dependency conflicts.\n",
      "daal4py 2021.5.0 requires daal==2021.4.0, which is not installed.\n",
      "chromadb 0.5.23 requires numpy>=1.22.5, but you have numpy 1.21.6 which is incompatible.\n",
      "geopandas 1.0.1 requires numpy>=1.22, but you have numpy 1.21.6 which is incompatible.\n",
      "osmnx 2.0.1 requires numpy>=1.22, but you have numpy 1.21.6 which is incompatible.\n",
      "streamlit 1.41.1 requires numpy<3,>=1.23, but you have numpy 1.21.6 which is incompatible.\n",
      "tensorflow-intel 2.18.0 requires numpy<2.1.0,>=1.26.0, but you have numpy 1.21.6 which is incompatible.\n",
      "torchvision 0.21.0+cpu requires torch==2.6.0, but you have torch 1.10.0 which is incompatible.\n",
      "ultralytics 8.3.5 requires numpy>=1.23.0, but you have numpy 1.21.6 which is incompatible.\n"
     ]
    }
   ],
   "source": [
    "!pip install numpy==1.23.5\n",
    "!pip install scipy==1.10.1 librosa==0.9.2\n"
   ]
  },
  {
   "cell_type": "code",
   "execution_count": 1,
   "id": "8ccc48f7",
   "metadata": {},
   "outputs": [
    {
     "name": "stderr",
     "output_type": "stream",
     "text": [
      "C:\\Users\\kuksh\\anaconda3\\lib\\site-packages\\paramiko\\pkey.py:82: CryptographyDeprecationWarning: TripleDES has been moved to cryptography.hazmat.decrepit.ciphers.algorithms.TripleDES and will be removed from cryptography.hazmat.primitives.ciphers.algorithms in 48.0.0.\n",
      "  \"cipher\": algorithms.TripleDES,\n",
      "C:\\Users\\kuksh\\anaconda3\\lib\\site-packages\\paramiko\\transport.py:219: CryptographyDeprecationWarning: Blowfish has been moved to cryptography.hazmat.decrepit.ciphers.algorithms.Blowfish and will be removed from cryptography.hazmat.primitives.ciphers.algorithms in 45.0.0.\n",
      "  \"class\": algorithms.Blowfish,\n",
      "C:\\Users\\kuksh\\anaconda3\\lib\\site-packages\\paramiko\\transport.py:243: CryptographyDeprecationWarning: TripleDES has been moved to cryptography.hazmat.decrepit.ciphers.algorithms.TripleDES and will be removed from cryptography.hazmat.primitives.ciphers.algorithms in 48.0.0.\n",
      "  \"class\": algorithms.TripleDES,\n",
      "C:\\Users\\kuksh\\anaconda3\\lib\\site-packages\\huggingface_hub\\file_download.py:797: FutureWarning: `resume_download` is deprecated and will be removed in version 1.0.0. Downloads always resume when possible. If you want to force a new download, use `force_download=True`.\n",
      "  warnings.warn(\n",
      "C:\\Users\\kuksh\\anaconda3\\lib\\site-packages\\transformers\\configuration_utils.py:369: UserWarning: Passing `gradient_checkpointing` to a config initialization is deprecated and will be removed in v5 Transformers. Using `model.gradient_checkpointing_enable()` instead, or if you are using the `Trainer` API, pass `gradient_checkpointing=True` in your `TrainingArguments`.\n",
      "  warnings.warn(\n",
      "Some weights of the model checkpoint at facebook/wav2vec2-base were not used when initializing Wav2Vec2ForSequenceClassification: ['quantizer.codevectors', 'project_hid.weight', 'project_hid.bias', 'project_q.bias', 'project_q.weight', 'quantizer.weight_proj.weight', 'quantizer.weight_proj.bias']\n",
      "- This IS expected if you are initializing Wav2Vec2ForSequenceClassification from the checkpoint of a model trained on another task or with another architecture (e.g. initializing a BertForSequenceClassification model from a BertForPreTraining model).\n",
      "- This IS NOT expected if you are initializing Wav2Vec2ForSequenceClassification from the checkpoint of a model that you expect to be exactly identical (initializing a BertForSequenceClassification model from a BertForSequenceClassification model).\n",
      "Some weights of Wav2Vec2ForSequenceClassification were not initialized from the model checkpoint at facebook/wav2vec2-base and are newly initialized: ['projector.bias', 'classifier.bias', 'projector.weight', 'classifier.weight']\n",
      "You should probably TRAIN this model on a down-stream task to be able to use it for predictions and inference.\n"
     ]
    },
    {
     "name": "stdout",
     "output_type": "stream",
     "text": [
      "🟢 This is YOUR voice!\n"
     ]
    }
   ],
   "source": [
    "import torch\n",
    "import librosa\n",
    "from transformers import Wav2Vec2Processor, Wav2Vec2ForSequenceClassification\n",
    "\n",
    "# Load trained Wav2Vec2 model and processor\n",
    "model_name = \"facebook/wav2vec2-base\"  # Ensure this is the correct fine-tuned model\n",
    "processor = Wav2Vec2Processor.from_pretrained(model_name)\n",
    "model = Wav2Vec2ForSequenceClassification.from_pretrained(model_name)\n",
    "\n",
    "# Function to predict voice from an audio file\n",
    "def predict_voice(file_path):\n",
    "    y, sr = librosa.load(file_path, sr=16000)  # Load audio file\n",
    "    inputs = processor(y, sampling_rate=16000, return_tensors=\"pt\", padding=True)\n",
    "\n",
    "    with torch.no_grad():\n",
    "        logits = model(inputs.input_values).logits\n",
    "\n",
    "    prediction = torch.argmax(logits, dim=-1).item()\n",
    "\n",
    "    if prediction == 1:\n",
    "        print(\"🟢 This is YOUR voice!\")\n",
    "    else:\n",
    "        print(\"🔴 This is someone else's voice.\")\n",
    "\n",
    "# Run prediction on recorded test audio\n",
    "predict_voice(\"test_voice.wav\")\n"
   ]
  },
  {
   "cell_type": "code",
   "execution_count": null,
   "id": "8453a1e8",
   "metadata": {},
   "outputs": [],
   "source": []
  }
 ],
 "metadata": {
  "kernelspec": {
   "display_name": "Python 3 (ipykernel)",
   "language": "python",
   "name": "python3"
  },
  "language_info": {
   "codemirror_mode": {
    "name": "ipython",
    "version": 3
   },
   "file_extension": ".py",
   "mimetype": "text/x-python",
   "name": "python",
   "nbconvert_exporter": "python",
   "pygments_lexer": "ipython3",
   "version": "3.9.12"
  }
 },
 "nbformat": 4,
 "nbformat_minor": 5
}
